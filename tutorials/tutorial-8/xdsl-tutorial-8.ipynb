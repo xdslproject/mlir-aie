{
 "cells": [
  {
   "cell_type": "code",
   "execution_count": 1,
   "id": "dc2ff787-7973-4e46-8034-4dd7962ac05b",
   "metadata": {},
   "outputs": [],
   "source": [
    "from xdsl.dialects.experimental import aie\n",
    "from xdsl.dialects.builtin import Region, IndexType, ModuleOp, i32, IntegerAttr, ArrayAttr, i64, StringAttr\n",
    "from xdsl.dialects.arith import Constant\n",
    "from xdsl.dialects.memref import MemRefType\n",
    "from xdsl.dialects import builtin, arith, memref, func\n",
    "from xdsl.builder import Builder\n",
    "from xdsl.traits import SymbolTable\n",
    "\n",
    "def I32Attr(value):\n",
    "    return IntegerAttr.from_int_and_width(value, i32)"
   ]
  },
  {
   "cell_type": "code",
   "execution_count": 2,
   "id": "1f271dd7-5756-44c5-8c36-6ddb0aaacbf2",
   "metadata": {},
   "outputs": [],
   "source": [
    "def tutorial8():\n",
    "    tile13 = aie.TileOp(I32Attr(1), I32Attr(3))\n",
    "    tile23 = aie.TileOp(I32Attr(2), I32Attr(3))\n",
    "\n",
    "    buf23 = aie.BufferOp(tile23, i32, ArrayAttr([I32Attr(256)]), StringAttr(\"a23\"))\n",
    "\n",
    "    kernel1 = func.FuncOp.external(\"extern_kernel1\", [], [])\n",
    "    kernel2 = func.FuncOp.external(\"extern_kernel2\", [memref.MemRefType.from_element_type_and_shape(i32, [256])], [])\n",
    "\n",
    "    lock13_2 = aie.LockOp(I32Attr(2), I32Attr(0), tile13, StringAttr(\"lock_a13_2\"))\n",
    "\n",
    "    @Builder.region\n",
    "    def core13_region(builder: Builder):\n",
    "        builder.insert(func.Call(kernel1.sym_name.data, [], []))\n",
    "        builder.insert(aie.EndOp())\n",
    "\n",
    "    core13 = aie.CoreOp(I32Attr(1), tile13, core13_region, \"kernel1.o\")\n",
    "\n",
    "    @Builder.region\n",
    "    def core23_region(builder: Builder):\n",
    "        uselock13_2_acquire = aie.UseLockOp(I32Attr(0), I32Attr(aie.LOCK_ACQUIRE), I32Attr(aie.BLOCKING), lock13_2)\n",
    "        builder.insert(uselock13_2_acquire)\n",
    "        builder.insert(func.Call(kernel2.sym_name.data, [buf23], []))\n",
    "        uselock13_2_release = aie.UseLockOp(I32Attr(1), I32Attr(aie.LOCK_RELEASE), I32Attr(aie.BLOCKING), lock13_2)\n",
    "        builder.insert(uselock13_2_release)\n",
    "        builder.insert(aie.EndOp())\n",
    "\n",
    "    core23 = aie.CoreOp(I32Attr(1), tile23, core23_region, \"kernel2.o\")\n",
    "\n",
    "    module = ModuleOp([tile13, tile23, buf23, kernel1, kernel2, lock13_2, core13, core23])\n",
    "    print(module)"
   ]
  },
  {
   "cell_type": "code",
   "execution_count": 3,
   "id": "958e60a3-d12c-4862-876b-7b8be47bdfae",
   "metadata": {},
   "outputs": [
    {
     "name": "stdout",
     "output_type": "stream",
     "text": [
      "builtin.module {\n",
      "  %0 = \"AIE.tile\"() {\"col\" = 1 : i32, \"row\" = 3 : i32} : () -> index\n",
      "  %1 = \"AIE.tile\"() {\"col\" = 2 : i32, \"row\" = 3 : i32} : () -> index\n",
      "  %2 = \"AIE.buffer\"(%1) {\"sym_name\" = \"a23\"} : (index) -> memref<256xi32>\n",
      "  func.func private @extern_kernel1() -> ()\n",
      "  func.func private @extern_kernel2(memref<256xi32>) -> ()\n",
      "  %3 = \"AIE.lock\"(%0) {\"lockID\" = 2 : i32, \"init\" = 0 : i32, \"sym_name\" = \"lock_a13_2\"} : (index) -> index\n",
      "  %4 = AIE.core (%0) {\n",
      "    func.call @extern_kernel1() : () -> ()\n",
      "    \"AIE.end\"() : () -> ()\n",
      "  } { link_with=\"kernel1.o\" }\n",
      "  %5 = AIE.core (%1) {\n",
      "    AIE.useLock(%3, \"Acquire\", 0)\n",
      "    func.call @extern_kernel2(%2) : (memref<256xi32>) -> ()\n",
      "    AIE.useLock(%3, \"Release\", 1)\n",
      "    \"AIE.end\"() : () -> ()\n",
      "  } { link_with=\"kernel2.o\" }\n",
      "}\n"
     ]
    }
   ],
   "source": [
    "tutorial8()"
   ]
  }
 ],
 "metadata": {
  "kernelspec": {
   "display_name": "env_xdsl",
   "language": "python",
   "name": "env_xdsl"
  },
  "language_info": {
   "codemirror_mode": {
    "name": "ipython",
    "version": 3
   },
   "file_extension": ".py",
   "mimetype": "text/x-python",
   "name": "python",
   "nbconvert_exporter": "python",
   "pygments_lexer": "ipython3",
   "version": "3.10.6"
  }
 },
 "nbformat": 4,
 "nbformat_minor": 5
}
