{
 "cells": [
  {
   "cell_type": "code",
   "execution_count": 1,
   "id": "b793656c-68e6-4304-8507-8b7d167b9ee0",
   "metadata": {},
   "outputs": [],
   "source": [
    "from xdsl.dialects.experimental import aie\n",
    "from xdsl.dialects.builtin import Region, IndexType, ModuleOp, i32, IntegerAttr, ArrayAttr, i64, StringAttr\n",
    "from xdsl.dialects.arith import Constant\n",
    "from xdsl.dialects.memref import MemRefType\n",
    "from xdsl.dialects import builtin, arith, memref, func\n",
    "from xdsl.builder import Builder\n",
    "from xdsl.traits import SymbolTable\n",
    "\n",
    "def I32Attr(value):\n",
    "    return IntegerAttr.from_int_and_width(value, i32)"
   ]
  },
  {
   "cell_type": "code",
   "execution_count": 2,
   "id": "e3c43c6d-a179-4260-b7c1-74f559e7b1e8",
   "metadata": {},
   "outputs": [],
   "source": [
    "def tutorial9():\n",
    "    tile14 = aie.TileOp(I32Attr(1), I32Attr(4))\n",
    "\n",
    "    buf = aie.BufferOp(tile14, i32, ArrayAttr([I32Attr(256)]), StringAttr(\"a14\"))\n",
    "\n",
    "\n",
    "    lock14_0 = aie.LockOp(I32Attr(0), I32Attr(0), tile14, StringAttr(\"lock14_0\"))\n",
    "\n",
    "    kernel = func.FuncOp.external(\"extern_kernel\", [memref.MemRefType.from_element_type_and_shape(i32, [256])], [])\n",
    "    @Builder.region\n",
    "    def core14_region(builder: Builder):\n",
    "        uselock14_0_acquire = aie.UseLockOp(I32Attr(0), I32Attr(aie.LOCK_ACQUIRE), I32Attr(aie.BLOCKING), lock14_0)\n",
    "        builder.insert(uselock14_0_acquire)\n",
    "        builder.insert(func.Call(kernel.sym_name.data, [buf], []))\n",
    "        uselock14_0_release = aie.UseLockOp(I32Attr(1), I32Attr(aie.LOCK_RELEASE), I32Attr(aie.BLOCKING), lock14_0)\n",
    "        builder.insert(uselock14_0_release)\n",
    "        builder.insert(aie.EndOp())\n",
    "\n",
    "    core14 = aie.CoreOp(I32Attr(1), tile14, core14_region, \"kernel.o\")\n",
    "\n",
    "    module = ModuleOp([tile14, buf, kernel, lock14_0, core14])\n",
    "    print(module)"
   ]
  },
  {
   "cell_type": "code",
   "execution_count": 3,
   "id": "5ba06c7a-a881-4ee1-9815-653450449f1b",
   "metadata": {},
   "outputs": [
    {
     "name": "stdout",
     "output_type": "stream",
     "text": [
      "builtin.module {\n",
      "  %0 = \"AIE.tile\"() {\"col\" = 1 : i32, \"row\" = 4 : i32} : () -> index\n",
      "  %1 = \"AIE.buffer\"(%0) {\"sym_name\" = \"a14\"} : (index) -> memref<256xi32>\n",
      "  func.func private @extern_kernel(memref<256xi32>) -> ()\n",
      "  %2 = \"AIE.lock\"(%0) {\"lockID\" = 0 : i32, \"init\" = 0 : i32, \"sym_name\" = \"lock14_0\"} : (index) -> index\n",
      "  %3 = AIE.core (%0) {\n",
      "    AIE.useLock(%2, \"Acquire\", 0)\n",
      "    func.call @extern_kernel(%1) : (memref<256xi32>) -> ()\n",
      "    AIE.useLock(%2, \"Release\", 1)\n",
      "    \"AIE.end\"() : () -> ()\n",
      "  } { link_with=\"kernel.o\" }\n",
      "}\n"
     ]
    }
   ],
   "source": [
    "tutorial9()"
   ]
  }
 ],
 "metadata": {
  "kernelspec": {
   "display_name": "env_xdsl",
   "language": "python",
   "name": "env_xdsl"
  },
  "language_info": {
   "codemirror_mode": {
    "name": "ipython",
    "version": 3
   },
   "file_extension": ".py",
   "mimetype": "text/x-python",
   "name": "python",
   "nbconvert_exporter": "python",
   "pygments_lexer": "ipython3",
   "version": "3.10.6"
  }
 },
 "nbformat": 4,
 "nbformat_minor": 5
}
